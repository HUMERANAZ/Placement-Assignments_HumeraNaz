{
 "cells": [
  {
   "cell_type": "markdown",
   "id": "2e67fcd6",
   "metadata": {},
   "source": [
    "# Statistics_Question_6"
   ]
  },
  {
   "cell_type": "markdown",
   "id": "fcea30cb",
   "metadata": {},
   "source": [
    "#### To determine if the change in blood pressure follows a normal distribution, we can perform a normality test on the data from the clinical trial. One commonly used normality test is the Shapiro-Wilk test. Here's how we can conduct the test using Python:"
   ]
  },
  {
   "cell_type": "markdown",
   "id": "98366cc0",
   "metadata": {},
   "source": [
    "##### importing libraries"
   ]
  },
  {
   "cell_type": "code",
   "execution_count": 1,
   "id": "527856b2",
   "metadata": {},
   "outputs": [],
   "source": [
    "import pandas as pd\n",
    "import numpy as np\n",
    "from scipy.stats import shapiro"
   ]
  },
  {
   "cell_type": "markdown",
   "id": "3cc0df8f",
   "metadata": {},
   "source": [
    "#### Read the dataset"
   ]
  },
  {
   "cell_type": "code",
   "execution_count": 3,
   "id": "da9da36a",
   "metadata": {},
   "outputs": [],
   "source": [
    "data = pd.read_csv('data.csv')\n"
   ]
  },
  {
   "cell_type": "markdown",
   "id": "177e2a69",
   "metadata": {},
   "source": [
    "#### Top rows of dataset"
   ]
  },
  {
   "cell_type": "code",
   "execution_count": 4,
   "id": "4d77b1c0",
   "metadata": {},
   "outputs": [
    {
     "data": {
      "text/html": [
       "<div>\n",
       "<style scoped>\n",
       "    .dataframe tbody tr th:only-of-type {\n",
       "        vertical-align: middle;\n",
       "    }\n",
       "\n",
       "    .dataframe tbody tr th {\n",
       "        vertical-align: top;\n",
       "    }\n",
       "\n",
       "    .dataframe thead th {\n",
       "        text-align: right;\n",
       "    }\n",
       "</style>\n",
       "<table border=\"1\" class=\"dataframe\">\n",
       "  <thead>\n",
       "    <tr style=\"text-align: right;\">\n",
       "      <th></th>\n",
       "      <th>Patient ID</th>\n",
       "      <th>Blood Pressure Before (mmHg)</th>\n",
       "      <th>Blood Pressure After (mmHg)</th>\n",
       "    </tr>\n",
       "  </thead>\n",
       "  <tbody>\n",
       "    <tr>\n",
       "      <th>0</th>\n",
       "      <td>1</td>\n",
       "      <td>130</td>\n",
       "      <td>120</td>\n",
       "    </tr>\n",
       "    <tr>\n",
       "      <th>1</th>\n",
       "      <td>2</td>\n",
       "      <td>142</td>\n",
       "      <td>135</td>\n",
       "    </tr>\n",
       "    <tr>\n",
       "      <th>2</th>\n",
       "      <td>3</td>\n",
       "      <td>120</td>\n",
       "      <td>118</td>\n",
       "    </tr>\n",
       "    <tr>\n",
       "      <th>3</th>\n",
       "      <td>4</td>\n",
       "      <td>135</td>\n",
       "      <td>127</td>\n",
       "    </tr>\n",
       "    <tr>\n",
       "      <th>4</th>\n",
       "      <td>5</td>\n",
       "      <td>148</td>\n",
       "      <td>140</td>\n",
       "    </tr>\n",
       "  </tbody>\n",
       "</table>\n",
       "</div>"
      ],
      "text/plain": [
       "   Patient ID   Blood Pressure Before (mmHg)   Blood Pressure After (mmHg)\n",
       "0           1                            130                           120\n",
       "1           2                            142                           135\n",
       "2           3                            120                           118\n",
       "3           4                            135                           127\n",
       "4           5                            148                           140"
      ]
     },
     "execution_count": 4,
     "metadata": {},
     "output_type": "execute_result"
    }
   ],
   "source": [
    "data.head()"
   ]
  },
  {
   "cell_type": "markdown",
   "id": "eae5ff00",
   "metadata": {},
   "source": [
    "#### Renaming column for removing white spaces"
   ]
  },
  {
   "cell_type": "code",
   "execution_count": 5,
   "id": "141e59d6",
   "metadata": {},
   "outputs": [],
   "source": [
    "data = data.rename(columns={' Blood Pressure Before (mmHg)': 'Blood Pressure Before (mmHg)', ' Blood Pressure After (mmHg)': 'Blood Pressure After (mmHg)'})"
   ]
  },
  {
   "cell_type": "markdown",
   "id": "ada83300",
   "metadata": {},
   "source": [
    "#### Extract the change in blood pressure values (after - before)"
   ]
  },
  {
   "cell_type": "code",
   "execution_count": 6,
   "id": "f5c6d23c",
   "metadata": {},
   "outputs": [],
   "source": [
    "change_in_bp = data['Blood Pressure After (mmHg)'] - data['Blood Pressure Before (mmHg)']"
   ]
  },
  {
   "cell_type": "markdown",
   "id": "60affd7a",
   "metadata": {},
   "source": [
    "### Perform the Shapiro-Wilk test for normality\n"
   ]
  },
  {
   "cell_type": "code",
   "execution_count": 7,
   "id": "5b1bfe15",
   "metadata": {},
   "outputs": [],
   "source": [
    "statistic, p_value = shapiro(change_in_bp)"
   ]
  },
  {
   "cell_type": "markdown",
   "id": "95f48e71",
   "metadata": {},
   "source": [
    "#### Check the significance level"
   ]
  },
  {
   "cell_type": "code",
   "execution_count": 8,
   "id": "f19c5fb1",
   "metadata": {},
   "outputs": [],
   "source": [
    "alpha = 0.05"
   ]
  },
  {
   "cell_type": "markdown",
   "id": "4c54d813",
   "metadata": {},
   "source": [
    "### Interpret the results\n"
   ]
  },
  {
   "cell_type": "code",
   "execution_count": 9,
   "id": "c77cdbc2",
   "metadata": {},
   "outputs": [
    {
     "name": "stdout",
     "output_type": "stream",
     "text": [
      "The change in blood pressure does not follow a normal distribution.\n"
     ]
    }
   ],
   "source": [
    "if p_value > alpha:\n",
    "    print(\"The change in blood pressure follows a normal distribution.\")\n",
    "else:\n",
    "    print(\"The change in blood pressure does not follow a normal distribution.\")"
   ]
  }
 ],
 "metadata": {
  "kernelspec": {
   "display_name": "Python 3 (ipykernel)",
   "language": "python",
   "name": "python3"
  },
  "language_info": {
   "codemirror_mode": {
    "name": "ipython",
    "version": 3
   },
   "file_extension": ".py",
   "mimetype": "text/x-python",
   "name": "python",
   "nbconvert_exporter": "python",
   "pygments_lexer": "ipython3",
   "version": "3.9.7"
  }
 },
 "nbformat": 4,
 "nbformat_minor": 5
}

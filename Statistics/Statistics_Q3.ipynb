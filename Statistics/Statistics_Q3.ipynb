{
 "cells": [
  {
   "cell_type": "markdown",
   "id": "acf2c072",
   "metadata": {},
   "source": [
    "# Statistics_Question_3"
   ]
  },
  {
   "cell_type": "code",
   "execution_count": 21,
   "id": "663b3919",
   "metadata": {},
   "outputs": [],
   "source": [
    "import pandas as pd\n",
    "import numpy as np\n",
    "import scipy.stats as stats\n",
    "import matplotlib.pyplot as plt"
   ]
  },
  {
   "cell_type": "markdown",
   "id": "3948c4a5",
   "metadata": {},
   "source": [
    "#### Read the dataset"
   ]
  },
  {
   "cell_type": "code",
   "execution_count": 2,
   "id": "ad1c39b6",
   "metadata": {},
   "outputs": [],
   "source": [
    "data = pd.read_csv('data.csv')\n"
   ]
  },
  {
   "cell_type": "markdown",
   "id": "63813818",
   "metadata": {},
   "source": [
    "#### Top rows of dataset"
   ]
  },
  {
   "cell_type": "code",
   "execution_count": 15,
   "id": "dfbcf6c3",
   "metadata": {},
   "outputs": [
    {
     "data": {
      "text/html": [
       "<div>\n",
       "<style scoped>\n",
       "    .dataframe tbody tr th:only-of-type {\n",
       "        vertical-align: middle;\n",
       "    }\n",
       "\n",
       "    .dataframe tbody tr th {\n",
       "        vertical-align: top;\n",
       "    }\n",
       "\n",
       "    .dataframe thead th {\n",
       "        text-align: right;\n",
       "    }\n",
       "</style>\n",
       "<table border=\"1\" class=\"dataframe\">\n",
       "  <thead>\n",
       "    <tr style=\"text-align: right;\">\n",
       "      <th></th>\n",
       "      <th>Patient ID</th>\n",
       "      <th>Blood Pressure Before (mmHg)</th>\n",
       "      <th>Blood Pressure After (mmHg)</th>\n",
       "    </tr>\n",
       "  </thead>\n",
       "  <tbody>\n",
       "    <tr>\n",
       "      <th>0</th>\n",
       "      <td>1</td>\n",
       "      <td>130</td>\n",
       "      <td>120</td>\n",
       "    </tr>\n",
       "    <tr>\n",
       "      <th>1</th>\n",
       "      <td>2</td>\n",
       "      <td>142</td>\n",
       "      <td>135</td>\n",
       "    </tr>\n",
       "    <tr>\n",
       "      <th>2</th>\n",
       "      <td>3</td>\n",
       "      <td>120</td>\n",
       "      <td>118</td>\n",
       "    </tr>\n",
       "    <tr>\n",
       "      <th>3</th>\n",
       "      <td>4</td>\n",
       "      <td>135</td>\n",
       "      <td>127</td>\n",
       "    </tr>\n",
       "    <tr>\n",
       "      <th>4</th>\n",
       "      <td>5</td>\n",
       "      <td>148</td>\n",
       "      <td>140</td>\n",
       "    </tr>\n",
       "  </tbody>\n",
       "</table>\n",
       "</div>"
      ],
      "text/plain": [
       "   Patient ID  Blood Pressure Before (mmHg)  Blood Pressure After (mmHg)\n",
       "0           1                           130                          120\n",
       "1           2                           142                          135\n",
       "2           3                           120                          118\n",
       "3           4                           135                          127\n",
       "4           5                           148                          140"
      ]
     },
     "execution_count": 15,
     "metadata": {},
     "output_type": "execute_result"
    }
   ],
   "source": [
    "data.head()"
   ]
  },
  {
   "cell_type": "markdown",
   "id": "fde3665e",
   "metadata": {},
   "source": [
    "#### Renaming column for removing white spaces"
   ]
  },
  {
   "cell_type": "code",
   "execution_count": 12,
   "id": "f1c0d5a0",
   "metadata": {},
   "outputs": [],
   "source": [
    "data = data.rename(columns={' Blood Pressure Before (mmHg)': 'Blood Pressure Before (mmHg)', ' Blood Pressure After (mmHg)': 'Blood Pressure After (mmHg)'})"
   ]
  },
  {
   "cell_type": "markdown",
   "id": "4ca8ff4e",
   "metadata": {},
   "source": [
    "#### Extract the 'Blood Pressure Before' and 'Blood Pressure After' columns"
   ]
  },
  {
   "cell_type": "code",
   "execution_count": 18,
   "id": "8cba21ee",
   "metadata": {},
   "outputs": [],
   "source": [
    "bp_before = data['Blood Pressure Before (mmHg)']\n",
    "bp_after = data['Blood Pressure After (mmHg)']"
   ]
  },
  {
   "cell_type": "markdown",
   "id": "889e57b8",
   "metadata": {},
   "source": [
    "#### Access the 'Blood Pressure Before' and 'Blood Pressure After' columns\n"
   ]
  },
  {
   "cell_type": "code",
   "execution_count": 13,
   "id": "234f9cdf",
   "metadata": {},
   "outputs": [],
   "source": [
    "blood_pressure_before = data['Blood Pressure Before (mmHg)']\n",
    "blood_pressure_after = data['Blood Pressure After (mmHg)']"
   ]
  },
  {
   "cell_type": "markdown",
   "id": "3fe970cb",
   "metadata": {},
   "source": [
    "### Ans 3. a.) Measure the dispersion in both and interpret the results."
   ]
  },
  {
   "cell_type": "code",
   "execution_count": 19,
   "id": "6e0484ff",
   "metadata": {},
   "outputs": [
    {
     "name": "stdout",
     "output_type": "stream",
     "text": [
      "Dispersion measures for 'Blood Pressure Before':\n",
      "Range: 28\n",
      "Interquartile Range (IQR): 11.25\n",
      "Variance: 43.10189999999998\n",
      "Standard Deviation: 6.5652037287505385\n",
      "\n",
      "Dispersion measures for 'Blood Pressure After':\n",
      "Range: 23\n",
      "Interquartile Range (IQR): 12.0\n",
      "Variance: 46.97040000000002\n",
      "Standard Deviation: 6.853495458523338\n"
     ]
    }
   ],
   "source": [
    "range_before = np.max(bp_before) - np.min(bp_before)\n",
    "range_after = np.max(bp_after) - np.min(bp_after)\n",
    "iqr_before = stats.iqr(bp_before)\n",
    "iqr_after = stats.iqr(bp_after)\n",
    "variance_before = np.var(bp_before)\n",
    "variance_after = np.var(bp_after)\n",
    "std_before = np.std(bp_before)\n",
    "std_after = np.std(bp_after)\n",
    "\n",
    "print(\"Dispersion measures for 'Blood Pressure Before':\")\n",
    "print(\"Range:\", range_before)\n",
    "print(\"Interquartile Range (IQR):\", iqr_before)\n",
    "print(\"Variance:\", variance_before)\n",
    "print(\"Standard Deviation:\", std_before)\n",
    "\n",
    "print(\"\\nDispersion measures for 'Blood Pressure After':\")\n",
    "print(\"Range:\", range_after)\n",
    "print(\"Interquartile Range (IQR):\", iqr_after)\n",
    "print(\"Variance:\", variance_after)\n",
    "print(\"Standard Deviation:\", std_after)\n"
   ]
  },
  {
   "cell_type": "markdown",
   "id": "1422652b",
   "metadata": {},
   "source": [
    "### Ans 3.b.) Calculating mean and 5% confidence interval and plotting it in a graph\n"
   ]
  },
  {
   "cell_type": "code",
   "execution_count": 22,
   "id": "ed089ad1",
   "metadata": {},
   "outputs": [
    {
     "data": {
      "image/png": "[encoded data removed]",
      "text/plain": [
       "<Figure size 432x288 with 1 Axes>"
      ]
     },
     "metadata": {
      "needs_background": "light"
     },
     "output_type": "display_data"
    }
   ],
   "source": [
    "mean_before = np.mean(bp_before)\n",
    "mean_after = np.mean(bp_after)\n",
    "std_error_before = stats.sem(bp_before)\n",
    "std_error_after = stats.sem(bp_after)\n",
    "confidence_interval_before = stats.t.interval(0.95, len(bp_before)-1, loc=mean_before, scale=std_error_before)\n",
    "confidence_interval_after = stats.t.interval(0.95, len(bp_after)-1, loc=mean_after, scale=std_error_after)\n",
    "\n",
    "labels = ['Blood Pressure Before', 'Blood Pressure After']\n",
    "means = [mean_before, mean_after]\n",
    "confidence_intervals = [confidence_interval_before, confidence_interval_after]\n",
    "\n",
    "x = np.arange(len(labels))\n",
    "plt.bar(x, means, yerr=[(ci[1] - ci[0])/2 for ci in confidence_intervals], capsize=5)\n",
    "plt.xticks(x, labels)\n",
    "plt.ylabel('Mean Blood Pressure (mmHg)')\n",
    "plt.title('Mean Blood Pressure and Confidence Interval')\n",
    "plt.show()"
   ]
  },
  {
   "cell_type": "markdown",
   "id": "0cf1fb5d",
   "metadata": {},
   "source": [
    "### Ans 3.c.) Calculate Mean Absolute Deviation (MAD) and Standard Deviation (SD)\n"
   ]
  },
  {
   "cell_type": "code",
   "execution_count": 23,
   "id": "3e4829b0",
   "metadata": {},
   "outputs": [
    {
     "name": "stdout",
     "output_type": "stream",
     "text": [
      "\n",
      "Mean Absolute Deviation (MAD) for 'Blood Pressure Before': 5.7118\n",
      "Mean Absolute Deviation (MAD) for 'Blood Pressure After': 5.9\n",
      "\n",
      "Standard Deviation (SD) for 'Blood Pressure Before': 6.5652037287505385\n",
      "Standard Deviation (SD) for 'Blood Pressure After': 6.853495458523338\n"
     ]
    }
   ],
   "source": [
    "mad_before = np.mean(np.abs(bp_before - np.mean(bp_before)))\n",
    "mad_after = np.mean(np.abs(bp_after - np.mean(bp_after)))\n",
    "\n",
    "print(\"\\nMean Absolute Deviation (MAD) for 'Blood Pressure Before':\", mad_before)\n",
    "print(\"Mean Absolute Deviation (MAD) for 'Blood Pressure After':\", mad_after)\n",
    "\n",
    "print(\"\\nStandard Deviation (SD) for 'Blood Pressure Before':\", std_before)\n",
    "print(\"Standard Deviation (SD) for 'Blood Pressure After':\", std_after)"
   ]
  },
  {
   "cell_type": "markdown",
   "id": "9fcf180a",
   "metadata": {},
   "source": [
    "### Ans 3.d.) Calculate correlation coefficient and check significance at 1% level"
   ]
  },
  {
   "cell_type": "code",
   "execution_count": 24,
   "id": "8d4aeae1",
   "metadata": {},
   "outputs": [
    {
     "name": "stdout",
     "output_type": "stream",
     "text": [
      "\n",
      "Correlation Coefficient: 0.9779485966556017\n",
      "P-value: 1.8097381433072956e-68\n",
      "Correlation is significant at the 1% level.\n"
     ]
    }
   ],
   "source": [
    "correlation_coefficient, p_value = stats.pearsonr(bp_before, bp_after)\n",
    "\n",
    "print(\"\\nCorrelation Coefficient:\", correlation_coefficient)\n",
    "print(\"P-value:\", p_value)\n",
    "\n",
    "alpha = 0.01\n",
    "if p_value < alpha:\n",
    "    print(\"Correlation is significant at the 1% level.\")\n",
    "else:\n",
    "    print(\"Correlation is not significant at the 1% level.\")"
   ]
  }
 ],
 "metadata": {
  "kernelspec": {
   "display_name": "Python 3 (ipykernel)",
   "language": "python",
   "name": "python3"
  },
  "language_info": {
   "codemirror_mode": {
    "name": "ipython",
    "version": 3
   },
   "file_extension": ".py",
   "mimetype": "text/x-python",
   "name": "python",
   "nbconvert_exporter": "python",
   "pygments_lexer": "ipython3",
   "version": "3.9.7"
  }
 },
 "nbformat": 4,
 "nbformat_minor": 5
}

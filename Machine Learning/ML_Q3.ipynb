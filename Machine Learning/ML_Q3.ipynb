{
 "cells": [
  {
   "cell_type": "markdown",
   "id": "e7d2fd38",
   "metadata": {},
   "source": [
    "# ML_Question_3"
   ]
  },
  {
   "cell_type": "markdown",
   "id": "d1a733b9",
   "metadata": {},
   "source": [
    "#### Importing libraries"
   ]
  },
  {
   "cell_type": "code",
   "execution_count": 2,
   "id": "c0641b67",
   "metadata": {},
   "outputs": [],
   "source": [
    "import pandas as pd\n",
    "from sklearn.metrics.pairwise import cosine_similarity\n",
    "from sklearn.feature_extraction.text import TfidfVectorizer\n",
    "from nltk.metrics.distance import jaccard_distance\n",
    "import Levenshtein"
   ]
  },
  {
   "cell_type": "markdown",
   "id": "a1acef17",
   "metadata": {},
   "source": [
    "#### Reading dataset"
   ]
  },
  {
   "cell_type": "code",
   "execution_count": 83,
   "id": "e4113f13",
   "metadata": {},
   "outputs": [],
   "source": [
    "df = pd.read_json(\"News_Category_Dataset_v3.json\", lines = True)"
   ]
  },
  {
   "cell_type": "markdown",
   "id": "fd27aabb",
   "metadata": {},
   "source": [
    "#### Top Rows of dataset"
   ]
  },
  {
   "cell_type": "code",
   "execution_count": 84,
   "id": "42503bc5",
   "metadata": {},
   "outputs": [
    {
     "data": {
      "text/html": [
       "<div>\n",
       "<style scoped>\n",
       "    .dataframe tbody tr th:only-of-type {\n",
       "        vertical-align: middle;\n",
       "    }\n",
       "\n",
       "    .dataframe tbody tr th {\n",
       "        vertical-align: top;\n",
       "    }\n",
       "\n",
       "    .dataframe thead th {\n",
       "        text-align: right;\n",
       "    }\n",
       "</style>\n",
       "<table border=\"1\" class=\"dataframe\">\n",
       "  <thead>\n",
       "    <tr style=\"text-align: right;\">\n",
       "      <th></th>\n",
       "      <th>link</th>\n",
       "      <th>headline</th>\n",
       "      <th>category</th>\n",
       "      <th>short_description</th>\n",
       "      <th>authors</th>\n",
       "      <th>date</th>\n",
       "    </tr>\n",
       "  </thead>\n",
       "  <tbody>\n",
       "    <tr>\n",
       "      <th>0</th>\n",
       "      <td>https://www.huffpost.com/entry/covid-boosters-...</td>\n",
       "      <td>Over 4 Million Americans Roll Up Sleeves For O...</td>\n",
       "      <td>U.S. NEWS</td>\n",
       "      <td>Health experts said it is too early to predict...</td>\n",
       "      <td>Carla K. Johnson, AP</td>\n",
       "      <td>2022-09-23</td>\n",
       "    </tr>\n",
       "    <tr>\n",
       "      <th>1</th>\n",
       "      <td>https://www.huffpost.com/entry/american-airlin...</td>\n",
       "      <td>American Airlines Flyer Charged, Banned For Li...</td>\n",
       "      <td>U.S. NEWS</td>\n",
       "      <td>He was subdued by passengers and crew when he ...</td>\n",
       "      <td>Mary Papenfuss</td>\n",
       "      <td>2022-09-23</td>\n",
       "    </tr>\n",
       "    <tr>\n",
       "      <th>2</th>\n",
       "      <td>https://www.huffpost.com/entry/funniest-tweets...</td>\n",
       "      <td>23 Of The Funniest Tweets About Cats And Dogs ...</td>\n",
       "      <td>COMEDY</td>\n",
       "      <td>\"Until you have a dog you don't understand wha...</td>\n",
       "      <td>Elyse Wanshel</td>\n",
       "      <td>2022-09-23</td>\n",
       "    </tr>\n",
       "    <tr>\n",
       "      <th>3</th>\n",
       "      <td>https://www.huffpost.com/entry/funniest-parent...</td>\n",
       "      <td>The Funniest Tweets From Parents This Week (Se...</td>\n",
       "      <td>PARENTING</td>\n",
       "      <td>\"Accidentally put grown-up toothpaste on my to...</td>\n",
       "      <td>Caroline Bologna</td>\n",
       "      <td>2022-09-23</td>\n",
       "    </tr>\n",
       "    <tr>\n",
       "      <th>4</th>\n",
       "      <td>https://www.huffpost.com/entry/amy-cooper-lose...</td>\n",
       "      <td>Woman Who Called Cops On Black Bird-Watcher Lo...</td>\n",
       "      <td>U.S. NEWS</td>\n",
       "      <td>Amy Cooper accused investment firm Franklin Te...</td>\n",
       "      <td>Nina Golgowski</td>\n",
       "      <td>2022-09-22</td>\n",
       "    </tr>\n",
       "  </tbody>\n",
       "</table>\n",
       "</div>"
      ],
      "text/plain": [
       "                                                link  \\\n",
       "0  https://www.huffpost.com/entry/covid-boosters-...   \n",
       "1  https://www.huffpost.com/entry/american-airlin...   \n",
       "2  https://www.huffpost.com/entry/funniest-tweets...   \n",
       "3  https://www.huffpost.com/entry/funniest-parent...   \n",
       "4  https://www.huffpost.com/entry/amy-cooper-lose...   \n",
       "\n",
       "                                            headline   category  \\\n",
       "0  Over 4 Million Americans Roll Up Sleeves For O...  U.S. NEWS   \n",
       "1  American Airlines Flyer Charged, Banned For Li...  U.S. NEWS   \n",
       "2  23 Of The Funniest Tweets About Cats And Dogs ...     COMEDY   \n",
       "3  The Funniest Tweets From Parents This Week (Se...  PARENTING   \n",
       "4  Woman Who Called Cops On Black Bird-Watcher Lo...  U.S. NEWS   \n",
       "\n",
       "                                   short_description               authors  \\\n",
       "0  Health experts said it is too early to predict...  Carla K. Johnson, AP   \n",
       "1  He was subdued by passengers and crew when he ...        Mary Papenfuss   \n",
       "2  \"Until you have a dog you don't understand wha...         Elyse Wanshel   \n",
       "3  \"Accidentally put grown-up toothpaste on my to...      Caroline Bologna   \n",
       "4  Amy Cooper accused investment firm Franklin Te...        Nina Golgowski   \n",
       "\n",
       "        date  \n",
       "0 2022-09-23  \n",
       "1 2022-09-23  \n",
       "2 2022-09-23  \n",
       "3 2022-09-23  \n",
       "4 2022-09-22  "
      ]
     },
     "execution_count": 84,
     "metadata": {},
     "output_type": "execute_result"
    }
   ],
   "source": [
    "df.head()"
   ]
  },
  {
   "cell_type": "markdown",
   "id": "464ef815",
   "metadata": {},
   "source": [
    "#### Finding number of rows and column in dataset"
   ]
  },
  {
   "cell_type": "code",
   "execution_count": 85,
   "id": "17bd90ee",
   "metadata": {},
   "outputs": [
    {
     "data": {
      "text/plain": [
       "(209527, 6)"
      ]
     },
     "execution_count": 85,
     "metadata": {},
     "output_type": "execute_result"
    }
   ],
   "source": [
    "df.shape"
   ]
  },
  {
   "cell_type": "markdown",
   "id": "617f0528",
   "metadata": {},
   "source": [
    "#### Name of All Features"
   ]
  },
  {
   "cell_type": "code",
   "execution_count": 86,
   "id": "8be7366e",
   "metadata": {},
   "outputs": [
    {
     "data": {
      "text/plain": [
       "Index(['link', 'headline', 'category', 'short_description', 'authors', 'date'], dtype='object')"
      ]
     },
     "execution_count": 86,
     "metadata": {},
     "output_type": "execute_result"
    }
   ],
   "source": [
    "df.columns"
   ]
  },
  {
   "cell_type": "markdown",
   "id": "53f4905a",
   "metadata": {},
   "source": [
    "#### Dropping irrelavant column"
   ]
  },
  {
   "cell_type": "code",
   "execution_count": 87,
   "id": "fe4a8b70",
   "metadata": {},
   "outputs": [],
   "source": [
    "df = df.drop(['link','date'], axis=1)\n"
   ]
  },
  {
   "cell_type": "markdown",
   "id": "3eeec789",
   "metadata": {},
   "source": [
    "#### Creating new column for news description"
   ]
  },
  {
   "cell_type": "code",
   "execution_count": 89,
   "id": "1fc8deca",
   "metadata": {},
   "outputs": [],
   "source": [
    "df['News_description'] = df['headline'] + ' : '+ df['short_description']"
   ]
  },
  {
   "cell_type": "markdown",
   "id": "fd095316",
   "metadata": {},
   "source": [
    "## Model Evaluation"
   ]
  },
  {
   "cell_type": "code",
   "execution_count": 90,
   "id": "59a63873",
   "metadata": {},
   "outputs": [
    {
     "name": "stdout",
     "output_type": "stream",
     "text": [
      "Given Data Point: news on health and wellness\n",
      "Most Similar Data Point:\n",
      "headline                                    What the Hell Is Wellness?\n",
      "category                                                HEALTHY LIVING\n",
      "short_description                                                     \n",
      "authors              Susanna Barkataki, Contributor Susanna shares ...\n",
      "News_description                         What the Hell Is Wellness? : \n",
      "Name: 105412, dtype: object\n"
     ]
    }
   ],
   "source": [
    "import pandas as pd\n",
    "from sklearn.metrics.pairwise import cosine_similarity\n",
    "from sklearn.feature_extraction.text import TfidfVectorizer\n",
    "from nltk.metrics.distance import jaccard_distance\n",
    "import Levenshtein\n",
    "\n",
    "# Assuming you have a DataFrame called 'df' with your dataset\n",
    "\n",
    "# Create an instance of TfidfVectorizer\n",
    "vectorizer = TfidfVectorizer()\n",
    "\n",
    "# Fit and transform the text data into a numerical representation\n",
    "tfidf_matrix = vectorizer.fit_transform(df['News_description'])\n",
    "\n",
    "# Define the given data point\n",
    "given_data = \"news on health and wellness\"\n",
    "\n",
    "# Transform the given data point using the vectorizer\n",
    "given_data_tfidf = vectorizer.transform([given_data])\n",
    "\n",
    "# Calculate cosine similarities between the given data point and all other data points\n",
    "cosine_similarities = cosine_similarity(given_data_tfidf, tfidf_matrix).flatten()\n",
    "\n",
    "# Calculate Jaccard similarities between the given data point and all other data points\n",
    "jaccard_similarities = df['News_description'].apply(lambda x: 1 - jaccard_distance(set(given_data.split()), set(x.split()))).values\n",
    "\n",
    "# Calculate Levenshtein distances between the given data point and all other data points\n",
    "levenshtein_distances = df['News_description'].apply(lambda x: Levenshtein.distance(given_data, x)).values\n",
    "\n",
    "# Combine the similarity metrics into a DataFrame\n",
    "similarity_df = pd.DataFrame({\n",
    "    'cosine_similarity': cosine_similarities,\n",
    "    'jaccard_similarity': jaccard_similarities,\n",
    "    'levenshtein_distance': levenshtein_distances,\n",
    "    'original_index': df.index\n",
    "})\n",
    "\n",
    "# Sort the DataFrame by similarity scores in descending order\n",
    "similarity_df.sort_values(by=['cosine_similarity', 'jaccard_similarity', 'levenshtein_distance'], ascending=False, inplace=True)\n",
    "\n",
    "# Get the most similar data point\n",
    "most_similar_index = similarity_df.iloc[1]['original_index']\n",
    "most_similar_data_point = df.loc[most_similar_index]\n",
    "\n",
    "# Print the most similar data point\n",
    "print(\"Given Data Point:\", given_data)\n",
    "print(\"Most Similar Data Point:\")\n",
    "print(most_similar_data_point)\n"
   ]
  },
  {
   "cell_type": "code",
   "execution_count": null,
   "id": "0830754d",
   "metadata": {},
   "outputs": [],
   "source": []
  }
 ],
 "metadata": {
  "kernelspec": {
   "display_name": "Python 3 (ipykernel)",
   "language": "python",
   "name": "python3"
  },
  "language_info": {
   "codemirror_mode": {
    "name": "ipython",
    "version": 3
   },
   "file_extension": ".py",
   "mimetype": "text/x-python",
   "name": "python",
   "nbconvert_exporter": "python",
   "pygments_lexer": "ipython3",
   "version": "3.9.7"
  }
 },
 "nbformat": 4,
 "nbformat_minor": 5
}

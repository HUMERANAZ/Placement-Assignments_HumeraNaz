{
 "cells": [
  {
   "cell_type": "markdown",
   "id": "52b55a99",
   "metadata": {},
   "source": [
    "# Question 8"
   ]
  },
  {
   "cell_type": "code",
   "execution_count": 5,
   "id": "e3d30d5b",
   "metadata": {},
   "outputs": [],
   "source": [
    "import pandas as pd\n",
    "import matplotlib.pyplot as plt"
   ]
  },
  {
   "cell_type": "code",
   "execution_count": null,
   "id": "1674f94b",
   "metadata": {},
   "outputs": [],
   "source": [
    "df=pd.read_csv(r\"C:\\Users\\humer\\Placement_Assignment\\Python\\Question 5\\tvmaze.csv\")"
   ]
  },
  {
   "cell_type": "markdown",
   "id": "cfbe40c2",
   "metadata": {},
   "source": [
    "### Q8.1 Get all the overall ratings for each season and using plots compare the ratings for all the seasons, like season 1 ratings, season 2, and so on.\n"
   ]
  },
  {
   "cell_type": "code",
   "execution_count": 2,
   "id": "978f2a64",
   "metadata": {},
   "outputs": [],
   "source": [
    "overall_ratings = df['Average Rating'].groupby(df['Season']).mean()"
   ]
  },
  {
   "cell_type": "markdown",
   "id": "b7e38203",
   "metadata": {},
   "source": [
    "#### Overall Ratings of all four Seasons"
   ]
  },
  {
   "cell_type": "code",
   "execution_count": 3,
   "id": "8ae258f2",
   "metadata": {},
   "outputs": [
    {
     "data": {
      "text/plain": [
       "Season\n",
       "1    8.0900\n",
       "2    8.0000\n",
       "3    7.7750\n",
       "4    7.5375\n",
       "Name: Average Rating, dtype: float64"
      ]
     },
     "execution_count": 3,
     "metadata": {},
     "output_type": "execute_result"
    }
   ],
   "source": [
    "overall_ratings"
   ]
  },
  {
   "cell_type": "markdown",
   "id": "46e2e4da",
   "metadata": {},
   "source": [
    "#### bar plot of overall ratings for each season"
   ]
  },
  {
   "cell_type": "code",
   "execution_count": 6,
   "id": "0f3ab04a",
   "metadata": {},
   "outputs": [
    {
     "data": {
      "image/png": "[encoded data removed]",
      "text/plain": [
       "<Figure size 720x432 with 1 Axes>"
      ]
     },
     "metadata": {
      "needs_background": "light"
     },
     "output_type": "display_data"
    }
   ],
   "source": [
    "seasons = ['Season 1', 'Season 2', 'Season 3', 'Season 4']\n",
    "\n",
    "ratings=[]\n",
    "for rating in overall_ratings:\n",
    "    ratings.append(rating)\n",
    "\n",
    "# Set the figure size\n",
    "fig, ax = plt.subplots(figsize=(10, 6))\n",
    "\n",
    "\n",
    "\n",
    "# Plotting the ratings\n",
    "plt.bar(seasons, ratings)\n",
    "\n",
    "# Set the axis labels and title\n",
    "plt.xlabel('Season')\n",
    "plt.ylabel('Rating')\n",
    "plt.title(' The overall ratings for each Season')\n",
    "\n",
    "# Show the plot\n",
    "plt.show()\n"
   ]
  },
  {
   "cell_type": "markdown",
   "id": "3964fc9b",
   "metadata": {},
   "source": [
    "### Q8.2 Get all the episode names, whose average rating is more than 8 for every season"
   ]
  },
  {
   "cell_type": "code",
   "execution_count": 7,
   "id": "29c0da0a",
   "metadata": {},
   "outputs": [],
   "source": [
    "more_than_8_ratings = df[df['Average Rating']>8]"
   ]
  },
  {
   "cell_type": "markdown",
   "id": "b68ff96e",
   "metadata": {},
   "source": [
    "#### List of Episodes more than 8 ratings"
   ]
  },
  {
   "cell_type": "code",
   "execution_count": 8,
   "id": "fc5642c3",
   "metadata": {},
   "outputs": [
    {
     "data": {
      "text/html": [
       "<div>\n",
       "<style scoped>\n",
       "    .dataframe tbody tr th:only-of-type {\n",
       "        vertical-align: middle;\n",
       "    }\n",
       "\n",
       "    .dataframe tbody tr th {\n",
       "        vertical-align: top;\n",
       "    }\n",
       "\n",
       "    .dataframe thead th {\n",
       "        text-align: right;\n",
       "    }\n",
       "</style>\n",
       "<table border=\"1\" class=\"dataframe\">\n",
       "  <thead>\n",
       "    <tr style=\"text-align: right;\">\n",
       "      <th></th>\n",
       "      <th>Episode Name</th>\n",
       "      <th>Average Rating</th>\n",
       "    </tr>\n",
       "  </thead>\n",
       "  <tbody>\n",
       "    <tr>\n",
       "      <th>6</th>\n",
       "      <td>Trompe L'Oeil</td>\n",
       "      <td>8.6</td>\n",
       "    </tr>\n",
       "    <tr>\n",
       "      <th>8</th>\n",
       "      <td>The Well-Tempered Clavier</td>\n",
       "      <td>8.5</td>\n",
       "    </tr>\n",
       "    <tr>\n",
       "      <th>9</th>\n",
       "      <td>The Bicameral Mind</td>\n",
       "      <td>8.7</td>\n",
       "    </tr>\n",
       "    <tr>\n",
       "      <th>17</th>\n",
       "      <td>Kiksuya</td>\n",
       "      <td>8.7</td>\n",
       "    </tr>\n",
       "    <tr>\n",
       "      <th>18</th>\n",
       "      <td>Vanishing Point</td>\n",
       "      <td>8.4</td>\n",
       "    </tr>\n",
       "    <tr>\n",
       "      <th>19</th>\n",
       "      <td>The Passenger</td>\n",
       "      <td>8.5</td>\n",
       "    </tr>\n",
       "  </tbody>\n",
       "</table>\n",
       "</div>"
      ],
      "text/plain": [
       "                 Episode Name  Average Rating\n",
       "6               Trompe L'Oeil             8.6\n",
       "8   The Well-Tempered Clavier             8.5\n",
       "9          The Bicameral Mind             8.7\n",
       "17                    Kiksuya             8.7\n",
       "18            Vanishing Point             8.4\n",
       "19              The Passenger             8.5"
      ]
     },
     "execution_count": 8,
     "metadata": {},
     "output_type": "execute_result"
    }
   ],
   "source": [
    "more_than_8_ratings[['Episode Name', 'Average Rating']]"
   ]
  },
  {
   "cell_type": "markdown",
   "id": "b776f19c",
   "metadata": {},
   "source": [
    "#### Bar Graph of all episodes more than 8 ratings"
   ]
  },
  {
   "cell_type": "code",
   "execution_count": 10,
   "id": "fc4b712d",
   "metadata": {},
   "outputs": [
    {
     "data": {
      "image/png": "[encoded data removed]",
      "text/plain": [
       "<Figure size 1440x720 with 1 Axes>"
      ]
     },
     "metadata": {
      "needs_background": "light"
     },
     "output_type": "display_data"
    }
   ],
   "source": [
    "Episodes_more_than_8_rating = [Episode for Episode in more_than_8_ratings['Episode Name']]\n",
    "more_than_8_rating = [rating for rating in more_than_8_ratings['Average Rating']]\n",
    "\n",
    "import matplotlib.pyplot as plt\n",
    "\n",
    "# Set the figure size\n",
    "fig, ax = plt.subplots(figsize=(20, 10))\n",
    "\n",
    "\n",
    "\n",
    "# Plotting the ratings\n",
    "plt.bar(Episodes_more_than_8_rating , more_than_8_rating)\n",
    "\n",
    "# Set the axis labels and title\n",
    "plt.xlabel('Episode Name')\n",
    "plt.ylabel('Episode Rating')\n",
    "plt.title(' All Episodes Rating more than 8')\n",
    "\n",
    "# Show the plot\n",
    "plt.show()"
   ]
  },
  {
   "cell_type": "markdown",
   "id": "65ff5005",
   "metadata": {},
   "source": [
    "### Q8.3 Get all the episode names that aired before May 2019"
   ]
  },
  {
   "cell_type": "code",
   "execution_count": 11,
   "id": "7dad24d6",
   "metadata": {},
   "outputs": [],
   "source": [
    "df['Airdate']=pd.to_datetime(df['Airdate'])\n",
    "Episode_before_2019may = df[df['Airdate']<pd.to_datetime('2019-05-01')]"
   ]
  },
  {
   "cell_type": "markdown",
   "id": "5b43ef1d",
   "metadata": {},
   "source": [
    "#### List of all Episodes aired before May 2019"
   ]
  },
  {
   "cell_type": "code",
   "execution_count": 12,
   "id": "24116a32",
   "metadata": {},
   "outputs": [
    {
     "data": {
      "text/html": [
       "<div>\n",
       "<style scoped>\n",
       "    .dataframe tbody tr th:only-of-type {\n",
       "        vertical-align: middle;\n",
       "    }\n",
       "\n",
       "    .dataframe tbody tr th {\n",
       "        vertical-align: top;\n",
       "    }\n",
       "\n",
       "    .dataframe thead th {\n",
       "        text-align: right;\n",
       "    }\n",
       "</style>\n",
       "<table border=\"1\" class=\"dataframe\">\n",
       "  <thead>\n",
       "    <tr style=\"text-align: right;\">\n",
       "      <th></th>\n",
       "      <th>Episode Name</th>\n",
       "      <th>Airdate</th>\n",
       "    </tr>\n",
       "  </thead>\n",
       "  <tbody>\n",
       "    <tr>\n",
       "      <th>0</th>\n",
       "      <td>The Original</td>\n",
       "      <td>2016-10-02</td>\n",
       "    </tr>\n",
       "    <tr>\n",
       "      <th>1</th>\n",
       "      <td>Chestnut</td>\n",
       "      <td>2016-10-09</td>\n",
       "    </tr>\n",
       "    <tr>\n",
       "      <th>2</th>\n",
       "      <td>The Stray</td>\n",
       "      <td>2016-10-16</td>\n",
       "    </tr>\n",
       "    <tr>\n",
       "      <th>3</th>\n",
       "      <td>Dissonance Theory</td>\n",
       "      <td>2016-10-23</td>\n",
       "    </tr>\n",
       "    <tr>\n",
       "      <th>4</th>\n",
       "      <td>Contrapasso</td>\n",
       "      <td>2016-10-30</td>\n",
       "    </tr>\n",
       "    <tr>\n",
       "      <th>5</th>\n",
       "      <td>The Adversary</td>\n",
       "      <td>2016-11-06</td>\n",
       "    </tr>\n",
       "    <tr>\n",
       "      <th>6</th>\n",
       "      <td>Trompe L'Oeil</td>\n",
       "      <td>2016-11-13</td>\n",
       "    </tr>\n",
       "    <tr>\n",
       "      <th>7</th>\n",
       "      <td>Trace Decay</td>\n",
       "      <td>2016-11-20</td>\n",
       "    </tr>\n",
       "    <tr>\n",
       "      <th>8</th>\n",
       "      <td>The Well-Tempered Clavier</td>\n",
       "      <td>2016-11-27</td>\n",
       "    </tr>\n",
       "    <tr>\n",
       "      <th>9</th>\n",
       "      <td>The Bicameral Mind</td>\n",
       "      <td>2016-12-04</td>\n",
       "    </tr>\n",
       "    <tr>\n",
       "      <th>10</th>\n",
       "      <td>Journey Into Night</td>\n",
       "      <td>2018-04-22</td>\n",
       "    </tr>\n",
       "    <tr>\n",
       "      <th>11</th>\n",
       "      <td>Reunion</td>\n",
       "      <td>2018-04-29</td>\n",
       "    </tr>\n",
       "    <tr>\n",
       "      <th>12</th>\n",
       "      <td>Virtù e Fortuna</td>\n",
       "      <td>2018-05-06</td>\n",
       "    </tr>\n",
       "    <tr>\n",
       "      <th>13</th>\n",
       "      <td>The Riddle of the Sphinx</td>\n",
       "      <td>2018-05-13</td>\n",
       "    </tr>\n",
       "    <tr>\n",
       "      <th>14</th>\n",
       "      <td>Akane No Mai</td>\n",
       "      <td>2018-05-20</td>\n",
       "    </tr>\n",
       "    <tr>\n",
       "      <th>15</th>\n",
       "      <td>Phase Space</td>\n",
       "      <td>2018-05-27</td>\n",
       "    </tr>\n",
       "    <tr>\n",
       "      <th>16</th>\n",
       "      <td>Les Écorchés</td>\n",
       "      <td>2018-06-03</td>\n",
       "    </tr>\n",
       "    <tr>\n",
       "      <th>17</th>\n",
       "      <td>Kiksuya</td>\n",
       "      <td>2018-06-10</td>\n",
       "    </tr>\n",
       "    <tr>\n",
       "      <th>18</th>\n",
       "      <td>Vanishing Point</td>\n",
       "      <td>2018-06-17</td>\n",
       "    </tr>\n",
       "    <tr>\n",
       "      <th>19</th>\n",
       "      <td>The Passenger</td>\n",
       "      <td>2018-06-24</td>\n",
       "    </tr>\n",
       "  </tbody>\n",
       "</table>\n",
       "</div>"
      ],
      "text/plain": [
       "                 Episode Name    Airdate\n",
       "0                The Original 2016-10-02\n",
       "1                    Chestnut 2016-10-09\n",
       "2                   The Stray 2016-10-16\n",
       "3           Dissonance Theory 2016-10-23\n",
       "4                 Contrapasso 2016-10-30\n",
       "5               The Adversary 2016-11-06\n",
       "6               Trompe L'Oeil 2016-11-13\n",
       "7                 Trace Decay 2016-11-20\n",
       "8   The Well-Tempered Clavier 2016-11-27\n",
       "9          The Bicameral Mind 2016-12-04\n",
       "10         Journey Into Night 2018-04-22\n",
       "11                    Reunion 2018-04-29\n",
       "12            Virtù e Fortuna 2018-05-06\n",
       "13   The Riddle of the Sphinx 2018-05-13\n",
       "14               Akane No Mai 2018-05-20\n",
       "15                Phase Space 2018-05-27\n",
       "16               Les Écorchés 2018-06-03\n",
       "17                    Kiksuya 2018-06-10\n",
       "18            Vanishing Point 2018-06-17\n",
       "19              The Passenger 2018-06-24"
      ]
     },
     "execution_count": 12,
     "metadata": {},
     "output_type": "execute_result"
    }
   ],
   "source": [
    "Episode_before_2019may[['Episode Name','Airdate']]"
   ]
  },
  {
   "cell_type": "markdown",
   "id": "b24a52e2",
   "metadata": {},
   "source": [
    "#### Plot of all episodes aired before 2019"
   ]
  },
  {
   "cell_type": "code",
   "execution_count": 13,
   "id": "b3a2fe87",
   "metadata": {},
   "outputs": [
    {
     "data": {
      "image/png": "[encoded data removed]",
      "text/plain": [
       "<Figure size 720x432 with 1 Axes>"
      ]
     },
     "metadata": {
      "needs_background": "light"
     },
     "output_type": "display_data"
    }
   ],
   "source": [
    "# Sort the DataFrame by air date\n",
    "sorted_df = df.sort_values(by='Airdate')\n",
    "\n",
    "# Set the figure size and create a new figure\n",
    "plt.figure(figsize=(10, 6))\n",
    "\n",
    "# Plot the episode dates on the x-axis and episode names on the y-axis\n",
    "plt.plot(sorted_df['Airdate'], sorted_df['Episode Name'], marker='o', linestyle='-', color='b')\n",
    "\n",
    "# Rotate the x-axis labels for better readability\n",
    "plt.xticks(rotation=45)\n",
    "\n",
    "# Set the x-axis and y-axis labels\n",
    "plt.xlabel('Air Date')\n",
    "plt.ylabel('Episode Name')\n",
    "\n",
    "# Set the title of the plot\n",
    "plt.title('Episode Names by Air Date')\n",
    "\n",
    "# Display the plot\n",
    "plt.show()\n"
   ]
  },
  {
   "cell_type": "markdown",
   "id": "8c222c25",
   "metadata": {},
   "source": [
    "### Q8.4 Get the episode name from each season with the highest and lowest rating"
   ]
  },
  {
   "cell_type": "code",
   "execution_count": 14,
   "id": "af3e414e",
   "metadata": {},
   "outputs": [],
   "source": [
    "highest_ratings = df.groupby('Season')['Average Rating'].max()\n",
    "lowest_ratings = df.groupby('Season')['Average Rating'].min()\n",
    "highest_ratings_index = df.groupby('Season')['Average Rating'].idxmax()\n",
    "lowest_ratings_index = df.groupby('Season')['Average Rating'].idxmin()"
   ]
  },
  {
   "cell_type": "code",
   "execution_count": 15,
   "id": "c436f295",
   "metadata": {},
   "outputs": [],
   "source": [
    "episode_names_highest_rating = df.loc[highest_ratings_index, ['Season', 'Episode Name', 'Average Rating']]\n",
    "episode_names_lowest_rating = df.loc[lowest_ratings_index, ['Season', 'Episode Name', 'Average Rating']]\n"
   ]
  },
  {
   "cell_type": "markdown",
   "id": "4ed979ad",
   "metadata": {},
   "source": [
    "#### List of episodes of highest rating in each season"
   ]
  },
  {
   "cell_type": "code",
   "execution_count": 16,
   "id": "eeb46cef",
   "metadata": {},
   "outputs": [
    {
     "data": {
      "text/html": [
       "<div>\n",
       "<style scoped>\n",
       "    .dataframe tbody tr th:only-of-type {\n",
       "        vertical-align: middle;\n",
       "    }\n",
       "\n",
       "    .dataframe tbody tr th {\n",
       "        vertical-align: top;\n",
       "    }\n",
       "\n",
       "    .dataframe thead th {\n",
       "        text-align: right;\n",
       "    }\n",
       "</style>\n",
       "<table border=\"1\" class=\"dataframe\">\n",
       "  <thead>\n",
       "    <tr style=\"text-align: right;\">\n",
       "      <th></th>\n",
       "      <th>Season</th>\n",
       "      <th>Episode Name</th>\n",
       "      <th>Average Rating</th>\n",
       "    </tr>\n",
       "  </thead>\n",
       "  <tbody>\n",
       "    <tr>\n",
       "      <th>9</th>\n",
       "      <td>1</td>\n",
       "      <td>The Bicameral Mind</td>\n",
       "      <td>8.7</td>\n",
       "    </tr>\n",
       "    <tr>\n",
       "      <th>17</th>\n",
       "      <td>2</td>\n",
       "      <td>Kiksuya</td>\n",
       "      <td>8.7</td>\n",
       "    </tr>\n",
       "    <tr>\n",
       "      <th>20</th>\n",
       "      <td>3</td>\n",
       "      <td>Parce Domine</td>\n",
       "      <td>8.0</td>\n",
       "    </tr>\n",
       "    <tr>\n",
       "      <th>32</th>\n",
       "      <td>4</td>\n",
       "      <td>Zhuangzi</td>\n",
       "      <td>7.8</td>\n",
       "    </tr>\n",
       "  </tbody>\n",
       "</table>\n",
       "</div>"
      ],
      "text/plain": [
       "    Season        Episode Name  Average Rating\n",
       "9        1  The Bicameral Mind             8.7\n",
       "17       2             Kiksuya             8.7\n",
       "20       3        Parce Domine             8.0\n",
       "32       4            Zhuangzi             7.8"
      ]
     },
     "execution_count": 16,
     "metadata": {},
     "output_type": "execute_result"
    }
   ],
   "source": [
    "episode_names_highest_rating"
   ]
  },
  {
   "cell_type": "markdown",
   "id": "323a24cd",
   "metadata": {},
   "source": [
    "#### List of episodes of lowest rating in each season"
   ]
  },
  {
   "cell_type": "code",
   "execution_count": 17,
   "id": "8fd914ee",
   "metadata": {},
   "outputs": [
    {
     "data": {
      "text/html": [
       "<div>\n",
       "<style scoped>\n",
       "    .dataframe tbody tr th:only-of-type {\n",
       "        vertical-align: middle;\n",
       "    }\n",
       "\n",
       "    .dataframe tbody tr th {\n",
       "        vertical-align: top;\n",
       "    }\n",
       "\n",
       "    .dataframe thead th {\n",
       "        text-align: right;\n",
       "    }\n",
       "</style>\n",
       "<table border=\"1\" class=\"dataframe\">\n",
       "  <thead>\n",
       "    <tr style=\"text-align: right;\">\n",
       "      <th></th>\n",
       "      <th>Season</th>\n",
       "      <th>Episode Name</th>\n",
       "      <th>Average Rating</th>\n",
       "    </tr>\n",
       "  </thead>\n",
       "  <tbody>\n",
       "    <tr>\n",
       "      <th>2</th>\n",
       "      <td>1</td>\n",
       "      <td>The Stray</td>\n",
       "      <td>7.6</td>\n",
       "    </tr>\n",
       "    <tr>\n",
       "      <th>14</th>\n",
       "      <td>2</td>\n",
       "      <td>Akane No Mai</td>\n",
       "      <td>7.6</td>\n",
       "    </tr>\n",
       "    <tr>\n",
       "      <th>25</th>\n",
       "      <td>3</td>\n",
       "      <td>Decoherence</td>\n",
       "      <td>7.5</td>\n",
       "    </tr>\n",
       "    <tr>\n",
       "      <th>28</th>\n",
       "      <td>4</td>\n",
       "      <td>The Auguries</td>\n",
       "      <td>7.1</td>\n",
       "    </tr>\n",
       "  </tbody>\n",
       "</table>\n",
       "</div>"
      ],
      "text/plain": [
       "    Season  Episode Name  Average Rating\n",
       "2        1     The Stray             7.6\n",
       "14       2  Akane No Mai             7.6\n",
       "25       3   Decoherence             7.5\n",
       "28       4  The Auguries             7.1"
      ]
     },
     "execution_count": 17,
     "metadata": {},
     "output_type": "execute_result"
    }
   ],
   "source": [
    "episode_names_lowest_rating"
   ]
  },
  {
   "cell_type": "markdown",
   "id": "ec5ccd61",
   "metadata": {},
   "source": [
    "### Q8.5 Get the summary for the most popular ( ratings ) episode in every season"
   ]
  },
  {
   "cell_type": "code",
   "execution_count": 22,
   "id": "3c448452",
   "metadata": {},
   "outputs": [],
   "source": [
    "popular_episodes = df.loc[highest_ratings_index, ['Season', 'Episode Name', 'Summary']]"
   ]
  },
  {
   "cell_type": "code",
   "execution_count": 23,
   "id": "9034fea8",
   "metadata": {},
   "outputs": [
    {
     "data": {
      "text/html": [
       "<div>\n",
       "<style scoped>\n",
       "    .dataframe tbody tr th:only-of-type {\n",
       "        vertical-align: middle;\n",
       "    }\n",
       "\n",
       "    .dataframe tbody tr th {\n",
       "        vertical-align: top;\n",
       "    }\n",
       "\n",
       "    .dataframe thead th {\n",
       "        text-align: right;\n",
       "    }\n",
       "</style>\n",
       "<table border=\"1\" class=\"dataframe\">\n",
       "  <thead>\n",
       "    <tr style=\"text-align: right;\">\n",
       "      <th></th>\n",
       "      <th>Season</th>\n",
       "      <th>Episode Name</th>\n",
       "      <th>Summary</th>\n",
       "    </tr>\n",
       "  </thead>\n",
       "  <tbody>\n",
       "    <tr>\n",
       "      <th>9</th>\n",
       "      <td>1</td>\n",
       "      <td>The Bicameral Mind</td>\n",
       "      <td>Delores finds out the truth about William's fa...</td>\n",
       "    </tr>\n",
       "    <tr>\n",
       "      <th>17</th>\n",
       "      <td>2</td>\n",
       "      <td>Kiksuya</td>\n",
       "      <td>Another of Westworld's Host revolutionaries is...</td>\n",
       "    </tr>\n",
       "    <tr>\n",
       "      <th>20</th>\n",
       "      <td>3</td>\n",
       "      <td>Parce Domine</td>\n",
       "      <td>If you're stuck in a loop, try walking in a st...</td>\n",
       "    </tr>\n",
       "    <tr>\n",
       "      <th>32</th>\n",
       "      <td>4</td>\n",
       "      <td>Zhuangzi</td>\n",
       "      <td>God is bored.</td>\n",
       "    </tr>\n",
       "  </tbody>\n",
       "</table>\n",
       "</div>"
      ],
      "text/plain": [
       "    Season        Episode Name  \\\n",
       "9        1  The Bicameral Mind   \n",
       "17       2             Kiksuya   \n",
       "20       3        Parce Domine   \n",
       "32       4            Zhuangzi   \n",
       "\n",
       "                                              Summary  \n",
       "9   Delores finds out the truth about William's fa...  \n",
       "17  Another of Westworld's Host revolutionaries is...  \n",
       "20  If you're stuck in a loop, try walking in a st...  \n",
       "32                                      God is bored.  "
      ]
     },
     "execution_count": 23,
     "metadata": {},
     "output_type": "execute_result"
    }
   ],
   "source": [
    "popular_episodes"
   ]
  },
  {
   "cell_type": "code",
   "execution_count": 25,
   "id": "a7a2035a",
   "metadata": {},
   "outputs": [
    {
     "name": "stdout",
     "output_type": "stream",
     "text": [
      "Season 9: The Bicameral Mind\n",
      "Summary: Delores finds out the truth about William's fate. Meanwhile, Maeve organizes an escape plan, only to discover that someone else is pulling the strings. And Robert plays the final piece in his grand narrative.\n",
      "\n",
      "Season 17: Kiksuya\n",
      "Summary: Another of Westworld's Host revolutionaries is revealed. Meanwhile, Emily finds the Man and convinces the Ghost Nation to hand him over to her to ensure his suffering.\n",
      "\n",
      "Season 20: Parce Domine\n",
      "Summary: If you're stuck in a loop, try walking in a straight line.\n",
      "\n",
      "Season 32: Zhuangzi\n",
      "Summary: God is bored.\n",
      "\n"
     ]
    }
   ],
   "source": [
    "for season, episode in popular_episodes.iterrows():\n",
    "    print(f\"Season {season}: {episode['Episode Name']}\")\n",
    "    print(f\"Summary: {episode['Summary']}\")\n",
    "    print()"
   ]
  },
  {
   "cell_type": "code",
   "execution_count": null,
   "id": "5bbfe831",
   "metadata": {},
   "outputs": [],
   "source": []
  }
 ],
 "metadata": {
  "kernelspec": {
   "display_name": "Python 3 (ipykernel)",
   "language": "python",
   "name": "python3"
  },
  "language_info": {
   "codemirror_mode": {
    "name": "ipython",
    "version": 3
   },
   "file_extension": ".py",
   "mimetype": "text/x-python",
   "name": "python",
   "nbconvert_exporter": "python",
   "pygments_lexer": "ipython3",
   "version": "3.9.7"
  }
 },
 "nbformat": 4,
 "nbformat_minor": 5
}

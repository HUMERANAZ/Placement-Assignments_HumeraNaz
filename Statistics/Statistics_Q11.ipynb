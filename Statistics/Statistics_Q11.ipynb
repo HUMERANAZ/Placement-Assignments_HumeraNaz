{
 "cells": [
  {
   "cell_type": "markdown",
   "id": "2e67fcd6",
   "metadata": {},
   "source": [
    "# Statistics_Question_11"
   ]
  },
  {
   "cell_type": "markdown",
   "id": "b5c76dce",
   "metadata": {},
   "source": [
    "##### importing libraries"
   ]
  },
  {
   "cell_type": "code",
   "execution_count": 8,
   "id": "527856b2",
   "metadata": {},
   "outputs": [],
   "source": [
    "import pandas as pd\n",
    "import scipy.stats as stats\n",
    "import statsmodels.api as sm\n",
    "from sklearn.discriminant_analysis import LinearDiscriminantAnalysis, QuadraticDiscriminantAnalysis\n",
    "from sklearn.model_selection import cross_val_score"
   ]
  },
  {
   "cell_type": "markdown",
   "id": "3cc0df8f",
   "metadata": {},
   "source": [
    "#### Read the dataset"
   ]
  },
  {
   "cell_type": "code",
   "execution_count": 2,
   "id": "da9da36a",
   "metadata": {},
   "outputs": [],
   "source": [
    "data = pd.read_csv('data.csv')\n"
   ]
  },
  {
   "cell_type": "markdown",
   "id": "177e2a69",
   "metadata": {},
   "source": [
    "#### Top rows of dataset"
   ]
  },
  {
   "cell_type": "code",
   "execution_count": 3,
   "id": "4d77b1c0",
   "metadata": {},
   "outputs": [
    {
     "data": {
      "text/html": [
       "<div>\n",
       "<style scoped>\n",
       "    .dataframe tbody tr th:only-of-type {\n",
       "        vertical-align: middle;\n",
       "    }\n",
       "\n",
       "    .dataframe tbody tr th {\n",
       "        vertical-align: top;\n",
       "    }\n",
       "\n",
       "    .dataframe thead th {\n",
       "        text-align: right;\n",
       "    }\n",
       "</style>\n",
       "<table border=\"1\" class=\"dataframe\">\n",
       "  <thead>\n",
       "    <tr style=\"text-align: right;\">\n",
       "      <th></th>\n",
       "      <th>Patient ID</th>\n",
       "      <th>Blood Pressure Before (mmHg)</th>\n",
       "      <th>Blood Pressure After (mmHg)</th>\n",
       "    </tr>\n",
       "  </thead>\n",
       "  <tbody>\n",
       "    <tr>\n",
       "      <th>0</th>\n",
       "      <td>1</td>\n",
       "      <td>130</td>\n",
       "      <td>120</td>\n",
       "    </tr>\n",
       "    <tr>\n",
       "      <th>1</th>\n",
       "      <td>2</td>\n",
       "      <td>142</td>\n",
       "      <td>135</td>\n",
       "    </tr>\n",
       "    <tr>\n",
       "      <th>2</th>\n",
       "      <td>3</td>\n",
       "      <td>120</td>\n",
       "      <td>118</td>\n",
       "    </tr>\n",
       "    <tr>\n",
       "      <th>3</th>\n",
       "      <td>4</td>\n",
       "      <td>135</td>\n",
       "      <td>127</td>\n",
       "    </tr>\n",
       "    <tr>\n",
       "      <th>4</th>\n",
       "      <td>5</td>\n",
       "      <td>148</td>\n",
       "      <td>140</td>\n",
       "    </tr>\n",
       "  </tbody>\n",
       "</table>\n",
       "</div>"
      ],
      "text/plain": [
       "   Patient ID   Blood Pressure Before (mmHg)   Blood Pressure After (mmHg)\n",
       "0           1                            130                           120\n",
       "1           2                            142                           135\n",
       "2           3                            120                           118\n",
       "3           4                            135                           127\n",
       "4           5                            148                           140"
      ]
     },
     "execution_count": 3,
     "metadata": {},
     "output_type": "execute_result"
    }
   ],
   "source": [
    "data.head()"
   ]
  },
  {
   "cell_type": "markdown",
   "id": "eae5ff00",
   "metadata": {},
   "source": [
    "#### Renaming column for removing white spaces"
   ]
  },
  {
   "cell_type": "code",
   "execution_count": 4,
   "id": "141e59d6",
   "metadata": {},
   "outputs": [],
   "source": [
    "data = data.rename(columns={' Blood Pressure Before (mmHg)': 'Blood Pressure Before (mmHg)', ' Blood Pressure After (mmHg)': 'Blood Pressure After (mmHg)'})"
   ]
  },
  {
   "cell_type": "markdown",
   "id": "60affd7a",
   "metadata": {},
   "source": [
    "### Ans 11.a.) Check whether the distribution of all the classes are the same or not\n",
    "\n"
   ]
  },
  {
   "cell_type": "code",
   "execution_count": 5,
   "id": "5b1bfe15",
   "metadata": {},
   "outputs": [
    {
     "name": "stdout",
     "output_type": "stream",
     "text": [
      "The distribution of the classes is not the same.\n"
     ]
    }
   ],
   "source": [
    "f_stat, p_value = stats.f_oneway(data[\"Blood Pressure Before (mmHg)\"], data[\"Blood Pressure After (mmHg)\"])\n",
    "if p_value < 0.05:\n",
    "    print(\"The distribution of the classes is not the same.\")\n",
    "else:\n",
    "    print(\"The distribution of the classes is the same.\")"
   ]
  },
  {
   "cell_type": "markdown",
   "id": "4c54d813",
   "metadata": {},
   "source": [
    "### Ans 11.b.)  Check for the equality of variance\n"
   ]
  },
  {
   "cell_type": "code",
   "execution_count": 6,
   "id": "c77cdbc2",
   "metadata": {},
   "outputs": [
    {
     "name": "stdout",
     "output_type": "stream",
     "text": [
      "The variances of the classes are equal.\n"
     ]
    }
   ],
   "source": [
    "levene_stat, levene_pvalue = stats.levene(data[\"Blood Pressure Before (mmHg)\"], data[\"Blood Pressure After (mmHg)\"])\n",
    "if levene_pvalue < 0.05:\n",
    "    print(\"The variances of the classes are significantly different.\")\n",
    "else:\n",
    "    print(\"The variances of the classes are equal.\")\n"
   ]
  },
  {
   "cell_type": "markdown",
   "id": "f74be9ca",
   "metadata": {},
   "source": [
    "### Ans 11.c.) Which amount LDA and QDA would perform better on this data for classification and why"
   ]
  },
  {
   "cell_type": "code",
   "execution_count": 10,
   "id": "0bc92b46",
   "metadata": {},
   "outputs": [
    {
     "name": "stdout",
     "output_type": "stream",
     "text": [
      "LDA Accuracy: 0.95\n",
      "QDA Accuracy: 0.98\n"
     ]
    }
   ],
   "source": [
    "# Prepare the feature matrix X and the target variable y\n",
    "\n",
    "data[\"Class\"] = [\"High\" if bp > 130 else \"Low\" for bp in data[\"Blood Pressure Before (mmHg)\"]]\n",
    "\n",
    "X = data[[\"Blood Pressure Before (mmHg)\", \"Blood Pressure After (mmHg)\"]]\n",
    "y = data[\"Class\"]\n",
    "\n",
    "# Instantiate LDA and QDA classifiers\n",
    "lda = LinearDiscriminantAnalysis()\n",
    "qda = QuadraticDiscriminantAnalysis()\n",
    "\n",
    "# Perform cross-validation and evaluate the performance\n",
    "lda_scores = cross_val_score(lda, X, y, cv=5)\n",
    "qda_scores = cross_val_score(qda, X, y, cv=5)\n",
    "\n",
    "# Print the average accuracy scores\n",
    "print(\"LDA Accuracy: {:.2f}\".format(lda_scores.mean()))\n",
    "print(\"QDA Accuracy: {:.2f}\".format(qda_scores.mean()))"
   ]
  },
  {
   "cell_type": "markdown",
   "id": "c61ef649",
   "metadata": {},
   "source": [
    "### Ans 11.d.) Check the equality of mean for between all the classes"
   ]
  },
  {
   "cell_type": "code",
   "execution_count": 11,
   "id": "a3132a5e",
   "metadata": {},
   "outputs": [
    {
     "name": "stdout",
     "output_type": "stream",
     "text": [
      "There is a significant difference in the means of the classes.\n"
     ]
    }
   ],
   "source": [
    "mean_diff = data[\"Blood Pressure Before (mmHg)\"].mean() - data[\"Blood Pressure After (mmHg)\"].mean()\n",
    "t_stat, t_pvalue = stats.ttest_rel(data[\"Blood Pressure Before (mmHg)\"], data[\"Blood Pressure After (mmHg)\"])\n",
    "if t_pvalue < 0.05:\n",
    "    print(\"There is a significant difference in the means of the classes.\")\n",
    "else:\n",
    "    print(\"The means of the classes are equal.\")"
   ]
  }
 ],
 "metadata": {
  "kernelspec": {
   "display_name": "Python 3 (ipykernel)",
   "language": "python",
   "name": "python3"
  },
  "language_info": {
   "codemirror_mode": {
    "name": "ipython",
    "version": 3
   },
   "file_extension": ".py",
   "mimetype": "text/x-python",
   "name": "python",
   "nbconvert_exporter": "python",
   "pygments_lexer": "ipython3",
   "version": "3.9.7"
  }
 },
 "nbformat": 4,
 "nbformat_minor": 5
}
